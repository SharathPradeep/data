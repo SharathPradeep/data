{
 "cells": [
  {
   "cell_type": "code",
   "execution_count": 42,
   "metadata": {},
   "outputs": [],
   "source": [
    "import pyspark\n",
    "from pyspark.sql.types import *\n",
    "from pyspark.sql.functions import col"
   ]
  },
  {
   "cell_type": "code",
   "execution_count": 43,
   "metadata": {},
   "outputs": [],
   "source": [
    "spark = SparkSession.builder.appName(\"PySpark_Hive\")\\\n",
    "        .config(\"spark.sql.catalogImplementation\",\"hive\")\\\n",
    "        .enableHiveSupport().getOrCreate()"
   ]
  },
  {
   "cell_type": "code",
   "execution_count": 44,
   "metadata": {},
   "outputs": [],
   "source": [
    "df=spark.read.options(header=\"true\").options(inferSchema=\"true\").csv('../data/merged_data.csv')"
   ]
  },
  {
   "cell_type": "code",
   "execution_count": 45,
   "metadata": {},
   "outputs": [
    {
     "name": "stdout",
     "output_type": "stream",
     "text": [
      "root\n",
      " |-- Customer_id: integer (nullable = true)\n",
      " |-- age: integer (nullable = true)\n",
      " |-- job: string (nullable = true)\n",
      " |-- marital: string (nullable = true)\n",
      " |-- education: string (nullable = true)\n",
      " |-- housing: string (nullable = true)\n",
      " |-- loan: string (nullable = true)\n",
      " |-- Region_Code: integer (nullable = true)\n",
      " |-- Region_Name: string (nullable = true)\n",
      " |-- State_Code: string (nullable = true)\n",
      " |-- State_Name: string (nullable = true)\n",
      " |-- City_Code: string (nullable = true)\n",
      " |-- City_Name: string (nullable = true)\n",
      " |-- Contact_Mode: string (nullable = true)\n",
      " |-- month: string (nullable = true)\n",
      " |-- day_of_week: string (nullable = true)\n",
      " |-- Current_Campaign_Attempts: integer (nullable = true)\n",
      " |-- Previous_Campaign_Attempts: integer (nullable = true)\n",
      " |-- Previous_Campaign_Outcome: string (nullable = true)\n",
      " |-- emp.var.rate: double (nullable = true)\n",
      " |-- cons.price.idx: double (nullable = true)\n",
      " |-- cons.conf.idx: double (nullable = true)\n",
      " |-- euribor3m: double (nullable = true)\n",
      " |-- nr.employed: double (nullable = true)\n",
      " |-- Current_Campaign_Result: string (nullable = true)\n",
      "\n"
     ]
    },
    {
     "data": {
      "text/plain": [
       "34448"
      ]
     },
     "execution_count": 45,
     "metadata": {},
     "output_type": "execute_result"
    }
   ],
   "source": [
    "df=df.filter(~col(\"job\").isin(\"unknown\"))\n",
    "df=df.filter(~col(\"marital\").isin(\"unknown\"))\n",
    "df=df.filter(~col(\"education\").isin(\"unknown\"))\n",
    "df=df.filter(~col(\"housing\").isin(\"unknown\"))\n",
    "df=df.filter(~col(\"loan\").isin(\"unknown\"))\n",
    "df=df.drop(\"default\")\n",
    "df.printSchema()\n",
    "df.count()"
   ]
  },
  {
   "cell_type": "code",
   "execution_count": 46,
   "metadata": {},
   "outputs": [],
   "source": [
    "df.write.format(\"parquet\").mode(\"overwrite\").saveAsTable(\"campaign\")"
   ]
  },
  {
   "cell_type": "code",
   "execution_count": 47,
   "metadata": {},
   "outputs": [
    {
     "name": "stdout",
     "output_type": "stream",
     "text": [
      "+-----------+---+--------+-------+-----------+-------+----+-----------+-----------+----------+----------+---------+---------+------------+-----+-----------+-------------------------+--------------------------+-------------------------+------------+--------------+-------------+---------+-----------+-----------------------+\n",
      "|Customer_id|age|     job|marital|  education|housing|loan|Region_Code|Region_Name|State_Code|State_Name|City_Code|City_Name|Contact_Mode|month|day_of_week|Current_Campaign_Attempts|Previous_Campaign_Attempts|Previous_Campaign_Outcome|emp.var.rate|cons.price.idx|cons.conf.idx|euribor3m|nr.employed|Current_Campaign_Result|\n",
      "+-----------+---+--------+-------+-----------+-------+----+-----------+-----------+----------+----------+---------+---------+------------+-----+-----------+-------------------------+--------------------------+-------------------------+------------+--------------+-------------+---------+-----------+-----------------------+\n",
      "|          1| 56|services|married|high.school|     no| yes|          3|      South|        S1|  Kentucky|       C1|Henderson|   telephone|  may|        mon|                        1|                         0|              nonexistent|         1.1|        93.994|        -36.4|    4.857|     5191.0|                     no|\n",
      "|          2| 45|services|married|   basic.9y|     no|  no|          3|      South|        S1|  Kentucky|       C1|Henderson|   telephone|  may|        mon|                        1|                         0|              nonexistent|         1.1|        93.994|        -36.4|    4.857|     5191.0|                     no|\n",
      "+-----------+---+--------+-------+-----------+-------+----+-----------+-----------+----------+----------+---------+---------+------------+-----+-----------+-------------------------+--------------------------+-------------------------+------------+--------------+-------------+---------+-----------+-----------------------+\n",
      "\n"
     ]
    }
   ],
   "source": [
    "spark.sql(\"Select * from campaign limit 2\").show()"
   ]
  },
  {
   "cell_type": "code",
   "execution_count": 48,
   "metadata": {},
   "outputs": [
    {
     "name": "stdout",
     "output_type": "stream",
     "text": [
      "+--------+\n",
      "|count(1)|\n",
      "+--------+\n",
      "|   34448|\n",
      "+--------+\n",
      "\n"
     ]
    }
   ],
   "source": [
    "spark.sql(\"Select count(*) from campaign\").show()"
   ]
  },
  {
   "cell_type": "code",
   "execution_count": 50,
   "metadata": {},
   "outputs": [
    {
     "name": "stdout",
     "output_type": "stream",
     "text": [
      "+--------------------+---------+-------+\n",
      "|            col_name|data_type|comment|\n",
      "+--------------------+---------+-------+\n",
      "|         Customer_id|      int|   null|\n",
      "|                 age|      int|   null|\n",
      "|                 job|   string|   null|\n",
      "|             marital|   string|   null|\n",
      "|           education|   string|   null|\n",
      "|             housing|   string|   null|\n",
      "|                loan|   string|   null|\n",
      "|         Region_Code|      int|   null|\n",
      "|         Region_Name|   string|   null|\n",
      "|          State_Code|   string|   null|\n",
      "|          State_Name|   string|   null|\n",
      "|           City_Code|   string|   null|\n",
      "|           City_Name|   string|   null|\n",
      "|        Contact_Mode|   string|   null|\n",
      "|               month|   string|   null|\n",
      "|         day_of_week|   string|   null|\n",
      "|Current_Campaign_...|      int|   null|\n",
      "|Previous_Campaign...|      int|   null|\n",
      "|Previous_Campaign...|   string|   null|\n",
      "|        emp.var.rate|   double|   null|\n",
      "+--------------------+---------+-------+\n",
      "only showing top 20 rows\n",
      "\n"
     ]
    }
   ],
   "source": [
    "spark.sql(\"describe campaign\").show()"
   ]
  },
  {
   "cell_type": "code",
   "execution_count": null,
   "metadata": {},
   "outputs": [],
   "source": []
  }
 ],
 "metadata": {
  "kernelspec": {
   "display_name": "Python 2",
   "language": "python",
   "name": "python2"
  },
  "language_info": {
   "codemirror_mode": {
    "name": "ipython",
    "version": 2
   },
   "file_extension": ".py",
   "mimetype": "text/x-python",
   "name": "python",
   "nbconvert_exporter": "python",
   "pygments_lexer": "ipython2",
   "version": "2.7.12"
  }
 },
 "nbformat": 4,
 "nbformat_minor": 2
}
